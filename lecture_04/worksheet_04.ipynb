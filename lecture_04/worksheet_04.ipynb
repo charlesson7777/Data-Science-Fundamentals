{
 "cells": [
  {
   "attachments": {},
   "cell_type": "markdown",
   "metadata": {},
   "source": [
    "# Worksheet 04\n",
    "\n",
    "Name:  Beaudlaire Jeancharles\n",
    "UID: U70445938\n",
    "\n",
    "### Topics\n",
    "\n",
    "- Distance & Similarity"
   ]
  },
  {
   "cell_type": "markdown",
   "metadata": {},
   "source": [
    "### Distance & Similarity\n",
    "\n",
    "#### Part 1\n",
    "\n",
    "a) In the minkowski distance, describe what the parameters p and d are.\n",
    "\n",
    "In the Minkowski distance the parameter P represents the order of the Minkowski distance.\n",
    "it determines  how the Minkowski distance is being calculated. And, the d represents the dimenssional space where the data points exist."
   ]
  },
  {
   "cell_type": "markdown",
   "metadata": {},
   "source": [
    "b) In your own words describe the difference between the Euclidean distance and the Manhattan distance.\n",
    "\n",
    "The key difference between Euclidean Distance and Manhattan Distance lies in how they compute distance: Euclidean Distance calculates the shortest possible path(Straight Line) between two points, while Manhattan Distance calculates the distance along the grid lines.\n",
    "\n",
    "\n",
    "\n"
   ]
  },
  {
   "cell_type": "markdown",
   "metadata": {},
   "source": []
  },
  {
   "attachments": {},
   "cell_type": "markdown",
   "metadata": {},
   "source": [
    "Consider A = (0, 0) and B = (1, 1). When:\n",
    "\n",
    "- p = 1, d(A, B) = 2\n",
    "- p = 2, d(A, B) = $\\sqrt{2} = 1.41$\n",
    "- p = 3, d(A, B) = $2^{1/3} = 1.26$\n",
    "- p = 4, d(A, B) = $2^{1/4} = 1.19$\n",
    "\n",
    "c) Describe what you think distance would look like when p is very large.\n",
    "\n",
    "As p is approaching infinity, the Minkowski Distance behaves more like the Chebyshev Distance because the contribution of each coordinates difference to the overall distance calculation becomes increasingly weigghted towards the largest difference."
   ]
  },
  {
   "cell_type": "markdown",
   "metadata": {},
   "source": []
  },
  {
   "cell_type": "markdown",
   "metadata": {},
   "source": [
    "d) Is the minkowski distance still a distance function when p < 1? Expain why / why not.\n",
    "\n",
    "When p < 1, the Minkowski Distance is not a distance because it violates the Triangle Inequality. So, it can lead to inconsistencies in measuring distances. However, "
   ]
  },
  {
   "cell_type": "markdown",
   "metadata": {},
   "source": []
  },
  {
   "cell_type": "markdown",
   "metadata": {},
   "source": [
    "e) when would you use cosine similarity over the euclidan distance?\n",
    "\n",
    "We should use Cosine (dis)similarity  over Euclidean distance when Direction matters more than magnitude. "
   ]
  },
  {
   "cell_type": "markdown",
   "metadata": {},
   "source": []
  },
  {
   "cell_type": "markdown",
   "metadata": {},
   "source": [
    "f) what does the jaccard distance account for that the manhattan distance doesn't?\n",
    "The thing that the Jaccard Distance accounts for that the Manhattan Distance does not is: \n",
    "it accounts for the presence of or absence of elements in sets but does not consider the magnitude or quantitative differences between elements."
   ]
  },
  {
   "cell_type": "markdown",
   "metadata": {},
   "source": []
  },
  {
   "attachments": {},
   "cell_type": "markdown",
   "metadata": {},
   "source": [
    "#### Part 2\n",
    "\n",
    "Consider the following two sentences:"
   ]
  },
  {
   "cell_type": "code",
   "execution_count": 1,
   "metadata": {},
   "outputs": [],
   "source": [
    "s1 = \"hello my name is Alice\"  \n",
    "s2 = \"hello my name is Bob\""
   ]
  },
  {
   "cell_type": "markdown",
   "metadata": {},
   "source": [
    "using the union of words from both sentences, we can represent each sentence as a vector. Each element of the vector represents the presence or absence of the word at that index.\n",
    "\n",
    "In this example, the union of words is (\"hello\", \"my\", \"name\", \"is\", \"Alice\", \"Bob\") so we can represent the above sentences as such:"
   ]
  },
  {
   "cell_type": "code",
   "execution_count": 4,
   "metadata": {},
   "outputs": [],
   "source": [
    "v1 = [1,    1, 1,   1, 1,    0]\n",
    "#     hello my name is Alice\n",
    "v2 = [1,    1, 1,   1, 0, 1]\n",
    "#     hello my name is    Bob"
   ]
  },
  {
   "attachments": {},
   "cell_type": "markdown",
   "metadata": {},
   "source": [
    "Programmatically, we can do the following:"
   ]
  },
  {
   "cell_type": "code",
   "execution_count": 18,
   "metadata": {},
   "outputs": [
    {
     "name": "stdout",
     "output_type": "stream",
     "text": [
      "['hello', 'name', 'is', 'my', 'Alice', 'Bob']\n",
      "[1, 1, 1, 1, 1, 0]\n"
     ]
    }
   ],
   "source": [
    "corpus = [s1, s2]\n",
    "#print(corpus)\n",
    "all_words = list(set([item for x in corpus for item in x.split()]))\n",
    "print(all_words)\n",
    "v1 = [1 if x in s1 else 0 for x in all_words]\n",
    "print(v1)"
   ]
  },
  {
   "cell_type": "markdown",
   "metadata": {},
   "source": [
    "Let's add a new sentence to our corpus:"
   ]
  },
  {
   "cell_type": "code",
   "execution_count": 19,
   "metadata": {},
   "outputs": [
    {
     "name": "stdout",
     "output_type": "stream",
     "text": [
      "['hello my name is Alice', 'hello my name is Bob', 'hi my name is Claude']\n"
     ]
    }
   ],
   "source": [
    "s3 = \"hi my name is Claude\"\n",
    "corpus.append(s3)\n",
    "print(corpus)"
   ]
  },
  {
   "cell_type": "markdown",
   "metadata": {},
   "source": [
    "a) What is the new union of words used to represent s1, s2, and s3?"
   ]
  },
  {
   "cell_type": "code",
   "execution_count": 20,
   "metadata": {},
   "outputs": [
    {
     "name": "stdout",
     "output_type": "stream",
     "text": [
      "['hi', 'hello', 'name', 'is', 'my', 'Alice', 'Bob', 'Claude']\n"
     ]
    }
   ],
   "source": [
    "all_words = list(set([item for x in corpus for item in x.split()]))\n",
    "print(all_words)"
   ]
  },
  {
   "attachments": {},
   "cell_type": "markdown",
   "metadata": {},
   "source": [
    "b) Represent s1, s2, and s3 as vectors as above, using this new set of words."
   ]
  },
  {
   "cell_type": "code",
   "execution_count": 73,
   "metadata": {},
   "outputs": [
    {
     "name": "stdout",
     "output_type": "stream",
     "text": [
      "[1, 0, 1, 0, 1, 0, 1, 1]\n",
      "[1, 0, 1, 0, 1, 1, 0, 1]\n",
      "[1, 1, 0, 1, 1, 0, 0, 1]\n"
     ]
    }
   ],
   "source": [
    "def sentence_to_vector(sentence, all_words):\n",
    "    vector = [0] * len(all_words)\n",
    "    words = sentence.split()\n",
    "    for word in words:\n",
    "        if word in all_words:\n",
    "            vector[all_words.index(word)] += 1\n",
    "    return vector\n",
    "\n",
    "v1 = sentence_to_vector(s1, all_words)\n",
    "v2 = sentence_to_vector(s2, all_words)\n",
    "v3 = sentence_to_vector(s3, all_words)\n",
    "\n",
    "print(v1)\n",
    "print(v2)\n",
    "print(v3)\n",
    "    "
   ]
  },
  {
   "cell_type": "markdown",
   "metadata": {},
   "source": [
    "c) Write a function that computes the manhattan distance between two vectors. Which pair of vectors are the most similar under that distance function?"
   ]
  },
  {
   "cell_type": "code",
   "execution_count": 83,
   "metadata": {},
   "outputs": [
    {
     "name": "stdout",
     "output_type": "stream",
     "text": [
      "2\n",
      "2\n",
      "4\n"
     ]
    }
   ],
   "source": [
    "def manhattan_dist(vect1,vect2):\n",
    "    if len(vect1) != len(vect2):\n",
    "        raise RuntimeError(\"x and and y should be same dimension!!!\")\n",
    "    return sum(abs(x - y) for x,y in zip(vect1, vect2))\n",
    "dist_v1_v2 = manhattan_dist(v1,v2)\n",
    "dist_v1_v3 = manhattan_dist(v1,v3)\n",
    "dist_v2_v3 = manhattan_dist(v2,v3)\n",
    "\n",
    "print(dist_v1_v2)\n",
    "print(dist_v1_v2)\n",
    "print(dist_v2_v3)\n",
    "    \n",
    "    "
   ]
  },
  {
   "cell_type": "markdown",
   "metadata": {},
   "source": []
  },
  {
   "cell_type": "markdown",
   "metadata": {},
   "source": [
    "d) Create a matrix of all these vectors (row major) and add the following sentences in vector form:\n",
    "\n",
    "- \"hi Alice\"\n",
    "- \"hello Claude\"\n",
    "- \"Bob my name is Claude\"\n",
    "- \"hi Claude my name is Alice\"\n",
    "- \"hello Bob\""
   ]
  },
  {
   "cell_type": "code",
   "execution_count": 81,
   "metadata": {},
   "outputs": [
    {
     "name": "stdout",
     "output_type": "stream",
     "text": [
      "[1, 0, 1, 0, 1, 0, 1, 1]\n",
      "[1, 0, 1, 0, 1, 1, 0, 1]\n",
      "[1, 1, 0, 1, 1, 0, 0, 1]\n",
      "[0, 1, 0, 0, 0, 0, 1, 0]\n",
      "[0, 0, 1, 1, 0, 0, 0, 0]\n",
      "[1, 0, 0, 1, 1, 1, 0, 1]\n",
      "[1, 1, 0, 1, 1, 0, 1, 1]\n",
      "[0, 0, 1, 0, 0, 1, 0, 0]\n"
     ]
    }
   ],
   "source": [
    "# Define the vectors\n",
    "s1 = [1, 0, 1, 0, 1, 0, 1, 1]\n",
    "s2 = [1, 0, 1, 0, 1, 1, 0, 1]\n",
    "s3 = [1, 1, 0, 1, 1, 0, 0, 1]\n",
    "\n",
    "# Define the new sentences\n",
    "new_sentences = [\n",
    "    \"hi Alice\",\n",
    "    \"hello Claude\",\n",
    "    \"Bob my name is Claude\",\n",
    "    \"hi Claude my name is Alice\",\n",
    "    \"hello Bob\"\n",
    "]\n",
    "\n",
    "# Function to convert sentence to vector\n",
    "def sentence_to_vector(sentence, all_words):\n",
    "    vector = [0] * len(all_words)\n",
    "    words = sentence.split()\n",
    "    for word in words:\n",
    "        if word in all_words:\n",
    "            vector[all_words.index(word)] += 1\n",
    "    return vector\n",
    "\n",
    "# Convert new sentences to vectors\n",
    "new_sentence_vectors = [sentence_to_vector(sentence, all_words) for sentence in new_sentences]\n",
    "\n",
    "# Create the matrix\n",
    "matrix = [s1, s2, s3] + new_sentence_vectors\n",
    "\n",
    "# Display the matrix\n",
    "for row in matrix:\n",
    "    print(row)\n"
   ]
  },
  {
   "cell_type": "markdown",
   "metadata": {},
   "source": [
    "e) How many rows and columns does this matrix have?"
   ]
  },
  {
   "cell_type": "code",
   "execution_count": 82,
   "metadata": {},
   "outputs": [
    {
     "name": "stdout",
     "output_type": "stream",
     "text": [
      "The number of rows is:  8\n",
      "The number of columns is:  8\n"
     ]
    }
   ],
   "source": [
    "num_rows = len(matrix)\n",
    "num_cols = len(matrix[0])\n",
    "\n",
    "print(\"The number of rows is: \", num_rows)\n",
    "print(\"The number of columns is: \", num_cols)"
   ]
  },
  {
   "attachments": {},
   "cell_type": "markdown",
   "metadata": {},
   "source": [
    "f) When using the Manhattan distance, which two sentences are the most similar?"
   ]
  },
  {
   "cell_type": "code",
   "execution_count": 90,
   "metadata": {},
   "outputs": [
    {
     "ename": "IndexError",
     "evalue": "list index out of range",
     "output_type": "error",
     "traceback": [
      "\u001b[0;31m---------------------------------------------------------------------------\u001b[0m",
      "\u001b[0;31mIndexError\u001b[0m                                Traceback (most recent call last)",
      "Cell \u001b[0;32mIn[90], line 18\u001b[0m\n\u001b[1;32m     15\u001b[0m index1, index2 \u001b[38;5;241m=\u001b[39m most_similar_pair\n\u001b[1;32m     17\u001b[0m \u001b[38;5;66;03m# Print the most similar pair and their distances\u001b[39;00m\n\u001b[0;32m---> 18\u001b[0m \u001b[38;5;28mprint\u001b[39m(\u001b[38;5;124m\"\u001b[39m\u001b[38;5;124mMost similar pair:\u001b[39m\u001b[38;5;124m\"\u001b[39m, new_sentences[index1], \u001b[38;5;124m\"\u001b[39m\u001b[38;5;124mand\u001b[39m\u001b[38;5;124m\"\u001b[39m, \u001b[43mnew_sentences\u001b[49m\u001b[43m[\u001b[49m\u001b[43mindex2\u001b[49m\u001b[43m]\u001b[49m)\n\u001b[1;32m     19\u001b[0m \u001b[38;5;28mprint\u001b[39m(\u001b[38;5;124m\"\u001b[39m\u001b[38;5;124mManhattan distance:\u001b[39m\u001b[38;5;124m\"\u001b[39m, min_distance)\n",
      "\u001b[0;31mIndexError\u001b[0m: list index out of range"
     ]
    }
   ],
   "source": [
    "# Initialize variables to store information about the most similar pair\n",
    "most_similar_pair = None\n",
    "min_distance = float('inf')\n",
    "\n",
    "# Compute distances between each pair of sentences\n",
    "for i in range(len(matrix)):\n",
    "    for j in range(i + 1, len(matrix)):\n",
    "        distance = manhattan_dist(matrix[i], matrix[j])\n",
    "        # Check if this pair has smaller distance\n",
    "        if distance < min_distance:\n",
    "            min_distance = distance\n",
    "            most_similar_pair = (i, j)\n",
    "\n",
    "# Extract the indices of the most similar pair\n",
    "index1, index2 = most_similar_pair\n",
    "\n",
    "# Print the most similar pair and their distances\n",
    "print(\"Most similar pair:\", new_sentences[index1], \"and\", new_sentences[index2])\n",
    "print(\"Manhattan distance:\", min_distance)\n"
   ]
  },
  {
   "cell_type": "markdown",
   "metadata": {},
   "source": [
    "#### Part 3 Challenge"
   ]
  },
  {
   "cell_type": "markdown",
   "metadata": {},
   "source": [
    "Given a set of graphs $\\mathcal{G}$, each graph $G \\in \\mathcal{G}$ is defined over the same set of nodes $V$. The graphs are represented by their adjacency matrices, which are 2D arrays where each element indicates whether a pair of nodes is connected by an edge.\n",
    "\n",
    "Your task is to compute the pairwise distances between these graphs based on a specific distance metric. The distance $d(G, G')$ between two graphs $G = (V, E)$ and $G' = (V, E')$ is defined as the sum of the number of edges in $G$ but not in $G'$, and the number of edges in $G'$ but not in $G$. Mathematically, this can be expressed as:\n",
    "\n",
    "$$\n",
    "d(G, G') = |E \\setminus E'| + |E' \\setminus E|.\n",
    "$$\n",
    "\n",
    "##### Requirements:\n",
    "1. **Input**: Should take a list of 2D numpy arrays as input. Each array represents the adjacency matrix of a graph.\n",
    "\n",
    "2. **Output**: Should output a pairwise distance matrix. If there are $n$ graphs in the input list, the output should be an $n \\times n$ matrix where the entry at position $(i, j)$ represents the distance between the $i^{th}$ and $j^{th}$ graph."
   ]
  },
  {
   "cell_type": "code",
   "execution_count": null,
   "metadata": {},
   "outputs": [],
   "source": []
  }
 ],
 "metadata": {
  "kernelspec": {
   "display_name": "Python 3",
   "language": "python",
   "name": "python3"
  },
  "language_info": {
   "codemirror_mode": {
    "name": "ipython",
    "version": 3
   },
   "file_extension": ".py",
   "mimetype": "text/x-python",
   "name": "python",
   "nbconvert_exporter": "python",
   "pygments_lexer": "ipython3",
   "version": "3.9.6"
  },
  "orig_nbformat": 4,
  "vscode": {
   "interpreter": {
    "hash": "76ca05dc3ea24b2e3b98cdb7774adfbb40773424bf5109b477fd793f623715af"
   }
  }
 },
 "nbformat": 4,
 "nbformat_minor": 2
}
